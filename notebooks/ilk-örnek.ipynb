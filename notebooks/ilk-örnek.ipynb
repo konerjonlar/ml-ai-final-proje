{
  "cells": [
    {
      "cell_type": "markdown",
      "metadata": {
        "id": "view-in-github",
        "colab_type": "text"
      },
      "source": [
        "<a href=\"https://colab.research.google.com/github/konerjonlar/ml-bootcamp-medical-cost/blob/main/notebooks/ilk-%C3%B6rnek.ipynb\" target=\"_parent\"><img src=\"https://colab.research.google.com/assets/colab-badge.svg\" alt=\"Open In Colab\"/></a>"
      ]
    },
    {
      "cell_type": "markdown",
      "id": "qHJRJEDiHocc",
      "metadata": {
        "id": "qHJRJEDiHocc"
      },
      "source": [
        "# Gerekli Kütüphanelerin Kurulumu"
      ]
    },
    {
      "cell_type": "code",
      "execution_count": 4,
      "id": "6e384e6d",
      "metadata": {
        "id": "6e384e6d"
      },
      "outputs": [],
      "source": [
        "import pandas as pd\n",
        "import numpy as np\n",
        "import seaborn as sns\n",
        "import matplotlib.pyplot as plt\n",
        "from sklearn.model_selection import train_test_split\n",
        "from sklearn.preprocessing import LabelEncoder, OneHotEncoder, MinMaxScaler, StandardScaler\n",
        "from sklearn.linear_model import LinearRegression\n",
        "from sklearn.ensemble import RandomForestRegressor\n",
        "from sklearn.svm import SVR\n",
        "from sklearn.model_selection import cross_val_score, GridSearchCV\n",
        "from sklearn.metrics import mean_squared_error, mean_absolute_error\n"
      ]
    },
    {
      "cell_type": "markdown",
      "id": "0PznzS4MH2iX",
      "metadata": {
        "id": "0PznzS4MH2iX"
      },
      "source": [
        "# Veri Hakkında Temel Bilgiler"
      ]
    },
    {
      "cell_type": "code",
      "execution_count": 6,
      "id": "ajuXXTxIBNEC",
      "metadata": {
        "colab": {
          "base_uri": "https://localhost:8080/"
        },
        "id": "ajuXXTxIBNEC",
        "outputId": "d189b6ae-118a-4509-d3f3-8b80bcb1307d"
      },
      "outputs": [
        {
          "output_type": "stream",
          "name": "stdout",
          "text": [
            "Kolonları Görüntüle\n",
            "Index(['age', 'sex', 'bmi', 'children', 'smoker', 'region', 'charges'], dtype='object')\n",
            "\n",
            "\n",
            "Boyut Bilgisi\n",
            "(1338, 7)\n",
            "\n",
            "\n",
            "Veri Tipleri\n",
            "age           int64\n",
            "sex          object\n",
            "bmi         float64\n",
            "children      int64\n",
            "smoker       object\n",
            "region       object\n",
            "charges     float64\n",
            "dtype: object\n",
            "\n",
            "\n",
            "İlk 10 Satır\n",
            "   age     sex     bmi  children smoker     region      charges\n",
            "0   19  female  27.900         0    yes  southwest  16884.92400\n",
            "1   18    male  33.770         1     no  southeast   1725.55230\n",
            "2   28    male  33.000         3     no  southeast   4449.46200\n",
            "3   33    male  22.705         0     no  northwest  21984.47061\n",
            "4   32    male  28.880         0     no  northwest   3866.85520\n",
            "5   31  female  25.740         0     no  southeast   3756.62160\n",
            "6   46  female  33.440         1     no  southeast   8240.58960\n",
            "7   37  female  27.740         3     no  northwest   7281.50560\n",
            "8   37    male  29.830         2     no  northeast   6406.41070\n",
            "9   60  female  25.840         0     no  northwest  28923.13692\n",
            "\n",
            "\n",
            "Son 4 Satır\n",
            "      age     sex    bmi  children smoker     region     charges\n",
            "1334   18  female  31.92         0     no  northeast   2205.9808\n",
            "1335   18  female  36.85         0     no  southeast   1629.8335\n",
            "1336   21  female  25.80         0     no  southwest   2007.9450\n",
            "1337   61  female  29.07         0    yes  northwest  29141.3603\n",
            "\n",
            "\n",
            "Null Veri Sayısı\n",
            "0\n",
            "\n",
            "\n",
            "Genel İstatistikler\n",
            "               age          bmi     children       charges\n",
            "count  1338.000000  1338.000000  1338.000000   1338.000000\n",
            "mean     39.207025    30.663397     1.094918  13270.422265\n",
            "std      14.049960     6.098187     1.205493  12110.011237\n",
            "min      18.000000    15.960000     0.000000   1121.873900\n",
            "25%      27.000000    26.296250     0.000000   4740.287150\n",
            "50%      39.000000    30.400000     1.000000   9382.033000\n",
            "75%      51.000000    34.693750     2.000000  16639.912515\n",
            "max      64.000000    53.130000     5.000000  63770.428010\n",
            "Kategorik Değişkenlerin Kontrolü\n",
            "0    574\n",
            "1    324\n",
            "2    240\n",
            "3    157\n",
            "4     25\n",
            "5     18\n",
            "Name: children, dtype: int64\n",
            "\n",
            "\n",
            "no     1064\n",
            "yes     274\n",
            "Name: smoker, dtype: int64\n",
            "\n",
            "\n",
            "southeast    364\n",
            "southwest    325\n",
            "northwest    325\n",
            "northeast    324\n",
            "Name: region, dtype: int64\n"
          ]
        }
      ],
      "source": [
        "# Veri setini yükle\n",
        "df = pd.read_csv('insurance.csv')\n",
        "n = \"\\n\"\n",
        "print(\"Kolonları Görüntüle\",\n",
        "      df.columns,\n",
        "      n,\n",
        "      \"Boyut Bilgisi\",\n",
        "      df.shape,\n",
        "      n,\n",
        "      \"Veri Tipleri\",\n",
        "      df.dtypes,\n",
        "      n,\n",
        "      \"İlk 10 Satır\",\n",
        "      df.head(10),\n",
        "      n,\n",
        "      \"Son 4 Satır\",\n",
        "      df.tail(4),\n",
        "      n,\n",
        "      \"Null Veri Sayısı\",\n",
        "      df.isnull().sum().sum(),\n",
        "      n,\n",
        "      \"Genel İstatistikler\",\n",
        "      df.describe(),\n",
        "      \"Kategorik Değişkenlerin Kontrolü\",\n",
        "      df[\"children\"].value_counts(),\n",
        "      n,\n",
        "      df[\"smoker\"].value_counts(),\n",
        "      n,\n",
        "      df[\"region\"].value_counts(),\n",
        "      sep=\"\\n\"\n",
        "      )"
      ]
    },
    {
      "cell_type": "markdown",
      "id": "o-zAK1qgLfg7",
      "metadata": {
        "id": "o-zAK1qgLfg7"
      },
      "source": [
        "\n",
        "\n",
        "1.   Kategorik değişkenlerin tipleri int64!\n",
        "\n"
      ]
    },
    {
      "cell_type": "markdown",
      "id": "QruRUJrXOjSy",
      "metadata": {
        "id": "QruRUJrXOjSy"
      },
      "source": [
        "# Outlier Değerlerin Kaldırılması"
      ]
    },
    {
      "cell_type": "code",
      "execution_count": null,
      "id": "khXJTIRZI61D",
      "metadata": {
        "id": "khXJTIRZI61D"
      },
      "outputs": [],
      "source": [
        "# Outlier Kolonları Belirle\n",
        "outlier_columns = ['age', 'bmi',  'charges']\n",
        "\n",
        "# Outlier kriteri ve IQR faktörünü belirle\n",
        "outlier_factor = 1.5\n",
        "\n",
        "for col in outlier_columns:\n",
        "    Q1 = df[col].quantile(0.25)\n",
        "    Q3 = df[col].quantile(0.75)\n",
        "    IQR = Q3 - Q1\n",
        "    lower_bound = Q1 - outlier_factor * IQR\n",
        "    upper_bound = Q3 + outlier_factor * IQR\n",
        "    df = df[(df[col] >= lower_bound) & (df[col] <= upper_bound)]"
      ]
    },
    {
      "cell_type": "markdown",
      "id": "8VtOyXsFO2dP",
      "metadata": {
        "id": "8VtOyXsFO2dP"
      },
      "source": [
        "# Görselleştirme"
      ]
    },
    {
      "cell_type": "code",
      "execution_count": null,
      "id": "vvtuYcJRBAkh",
      "metadata": {
        "id": "vvtuYcJRBAkh"
      },
      "outputs": [],
      "source": [
        "# Bmi Dağılımı\n",
        "plt.figure(figsize=(10, 6))\n",
        "sns.histplot(df['bmi'], bins=30, kde=True)\n",
        "plt.title('Distribution of BMI')\n",
        "plt.show()\n",
        "# Diğer analizler aynı şekilde devam eder...\n"
      ]
    },
    {
      "cell_type": "markdown",
      "id": "xgyZYOy6RZbS",
      "metadata": {
        "id": "xgyZYOy6RZbS"
      },
      "source": [
        "# Label Encoder"
      ]
    },
    {
      "cell_type": "code",
      "execution_count": null,
      "id": "1112f6a4",
      "metadata": {
        "id": "1112f6a4"
      },
      "outputs": [],
      "source": [
        "# Kategorik sütunları içeren bir liste\n",
        "categorical_columns = ['sex', 'children', 'smoker']\n",
        "\n",
        "# Kategorik değişkenleri sayısal değerlere dönüştürme\n",
        "label_encoder = LabelEncoder()\n",
        "for column in categorical_columns:\n",
        "  df[column] = label_encoder.fit_transform(df[column])\n",
        "\n",
        "# One-Hot Encoding\n",
        "#df = pd.get_dummies(df, columns=['region'], drop_first=True)\n",
        "\n",
        "# Verileri X ve y olarak ayırma\n",
        "X = df.drop('charges', axis=1)\n",
        "y = df['charges']\n",
        "\n",
        "# Verileri eğitim ve test setlerine bölme\n",
        "X_train, X_test, y_train, y_test = train_test_split(X, y, test_size=0.2, random_state=42)\n",
        "\n",
        "# Verileri ölçeklendirme\n",
        "scaler = StandardScaler()\n",
        "X_train = scaler.fit_transform(X_train)\n",
        "X_test = scaler.transform(X_test)\n",
        "\n",
        "\n",
        "\n",
        "# For döngüsü ile kategorik sütunlara erişim\n",
        "for column in categorical_columns:\n",
        "    unique_values = df[column].unique()\n",
        "    num_unique = len(unique_values)\n",
        "\n",
        "    print(f\"Sütun: {column}\")\n",
        "    print(f\"Benzer Değerler: {unique_values}\")\n",
        "    print(f\"Benzer Değer Sayısı: {num_unique}\")\n",
        "    print(\"=\" * 30)\n"
      ]
    },
    {
      "cell_type": "markdown",
      "id": "AJ0zgpb-YMCY",
      "metadata": {
        "id": "AJ0zgpb-YMCY"
      },
      "source": [
        "# Model Seçimi"
      ]
    },
    {
      "cell_type": "code",
      "execution_count": null,
      "id": "73d0093d",
      "metadata": {
        "id": "73d0093d"
      },
      "outputs": [],
      "source": [
        "# Farklı regresyon modellerini seçme\n",
        "models = {\n",
        "    'Linear Regression': LinearRegression(),\n",
        "    'Random Forest Regressor': RandomForestRegressor(),\n",
        "    'Support Vector Regressor': SVR()\n",
        "}\n",
        "\n",
        "# Modelleri eğitme ve çapraz doğrulama ile performansı değerlendirme\n",
        "results = {}\n",
        "for model_name, model in models.items():\n",
        "    scores = cross_val_score(model, X_train, y_train, cv=5, scoring='neg_mean_squared_error')\n",
        "    rmse_scores = np.sqrt(-scores)\n",
        "    results[model_name] = rmse_scores.mean()\n",
        "\n",
        "# Modelleri performansa göre sıralama\n",
        "sorted_results = sorted(results.items(), key=lambda x: x[1])\n",
        "for model_name, rmse_score in sorted_results:\n",
        "    print(f'{model_name}: RMSE = {rmse_score:.2f}')\n"
      ]
    },
    {
      "cell_type": "code",
      "execution_count": null,
      "id": "884920f1",
      "metadata": {
        "id": "884920f1"
      },
      "outputs": [],
      "source": [
        "from sklearn.linear_model import LinearRegression\n",
        "from sklearn.model_selection import GridSearchCV\n",
        "from sklearn.metrics import mean_squared_error\n",
        "\n",
        "# Lineer Regresyon modelini oluşturma\n",
        "model = LinearRegression()\n",
        "\n",
        "# Hiperparametreler ve değer aralıkları\n",
        "param_grid = {\n",
        "    # Lineer Regresyon modeli için herhangi bir hiperparametre bulunmuyor\n",
        "}\n",
        "\n",
        "# Grid Search ile hiperparametre optimizasyonu\n",
        "grid_search = GridSearchCV(model, param_grid, cv=5, scoring='neg_mean_squared_error', verbose=2)\n",
        "grid_search.fit(X_train, y_train)\n",
        "\n",
        "# En iyi modeli seçme\n",
        "best_model = grid_search.best_estimator_\n",
        "\n",
        "# Test verisi üzerinde tahmin yapma\n",
        "y_pred = best_model.predict(X_test)\n",
        "\n",
        "# RMSE hesaplama\n",
        "rmse = np.sqrt(mean_squared_error(y_test, y_pred))\n",
        "print(\"Test RMSE:\", rmse)\n"
      ]
    },
    {
      "cell_type": "code",
      "execution_count": null,
      "id": "77006650",
      "metadata": {
        "id": "77006650"
      },
      "outputs": [],
      "source": [
        "# En iyi modeli seçme\n",
        "best_model = grid_search.best_estimator_\n",
        "\n",
        "# Test verileri üzerinde tahmin yapma\n",
        "y_pred = best_model.predict(X_test)\n",
        "\n",
        "# Hata metriklerini hesaplama\n",
        "mse = mean_squared_error(y_test, y_pred)\n",
        "mae = mean_absolute_error(y_test, y_pred)\n",
        "rmse = np.sqrt(mse)\n",
        "\n",
        "# Sonuçları yazdırma\n",
        "print(f'Mean Squared Error (MSE): {mse:.2f}')\n",
        "print(f'Mean Absolute Error (MAE): {mae:.2f}')\n",
        "print(f'Root Mean Squared Error (RMSE): {rmse:.2f}')\n"
      ]
    },
    {
      "cell_type": "code",
      "execution_count": null,
      "id": "bdd2ac8f",
      "metadata": {
        "id": "bdd2ac8f"
      },
      "outputs": [],
      "source": [
        "# Model seçimi ve eğitimi\n",
        "best_model = RandomForestRegressor()  # Örnek olarak Random Forest Regressor seçildi\n",
        "best_model.fit(X_train, y_train)\n",
        "\n"
      ]
    },
    {
      "cell_type": "code",
      "execution_count": null,
      "id": "e458a0d5",
      "metadata": {
        "id": "e458a0d5"
      },
      "outputs": [],
      "source": [
        "# Grid Search ile hiperparametre optimizasyonu\n",
        "param_grid = {\n",
        "    'n_estimators': [100, 200, 300],\n",
        "    'max_depth': [None, 10, 20],\n",
        "    'min_samples_split': [2, 5, 10],\n",
        "    'min_samples_leaf': [1, 2, 4]\n",
        "}\n",
        "\n",
        "grid_search = GridSearchCV(best_model, param_grid, cv=5, scoring='neg_mean_squared_error', verbose=2)\n",
        "grid_search.fit(X_train, y_train)\n",
        "\n",
        "# En iyi model ve sonuçları\n",
        "best_model = grid_search.best_estimator_\n",
        "best_rmse = np.sqrt(-grid_search.best_score_)\n",
        "\n",
        "print(\"Best Parameters:\", grid_search.best_params_)\n",
        "print(\"Best RMSE:\", best_rmse)\n"
      ]
    },
    {
      "cell_type": "code",
      "execution_count": null,
      "id": "87a214ac",
      "metadata": {
        "id": "87a214ac"
      },
      "outputs": [],
      "source": []
    }
  ],
  "metadata": {
    "colab": {
      "provenance": [],
      "include_colab_link": true
    },
    "kernelspec": {
      "display_name": "Python 3 (ipykernel)",
      "language": "python",
      "name": "python3"
    },
    "language_info": {
      "codemirror_mode": {
        "name": "ipython",
        "version": 3
      },
      "file_extension": ".py",
      "mimetype": "text/x-python",
      "name": "python",
      "nbconvert_exporter": "python",
      "pygments_lexer": "ipython3",
      "version": "3.7.16"
    }
  },
  "nbformat": 4,
  "nbformat_minor": 5
}